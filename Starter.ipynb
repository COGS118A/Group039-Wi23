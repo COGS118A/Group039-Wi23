{
 "cells": [
  {
   "cell_type": "markdown",
   "id": "492f61d4-65b7-4a45-8571-6f016dac1098",
   "metadata": {},
   "source": [
    "### __Use this notebook to build your model, treat it as a playground__ - Muhammad.\n",
    "\n",
    "I recommend this order: `Support Vector Machine Classifer -> Logistic Regression -> Random Forest Classifier -> XGBoost`\n",
    "\n",
    "Before transitioning to classifier `c'` from classifier `c`, make sure to perform extensive tuning and evaluation of `c` (document them). This way, our justification of the final model will be solid.\n",
    "\n",
    "Also, justify why we choose to even try classifier `c`."
   ]
  },
  {
   "cell_type": "code",
   "execution_count": 5,
   "id": "9b614a79-8827-4a46-8b1b-66da34eb3ec6",
   "metadata": {},
   "outputs": [],
   "source": [
    "import numpy as np\n",
    "import pandas as pd\n",
    "import matplotlib.pyplot as plt"
   ]
  },
  {
   "cell_type": "code",
   "execution_count": 6,
   "id": "a624e760-5ce2-462c-a5a7-37b9ae02fbdd",
   "metadata": {},
   "outputs": [],
   "source": [
    "# Load the dataset\n",
    "X_train = np.load('dataset/X_train.npy')\n",
    "X_test = np.load('dataset/X_test.npy')\n",
    "y_train = np.load('dataset/y_train.npy')\n",
    "y_test = np.load('dataset/y_test.npy')"
   ]
  },
  {
   "cell_type": "code",
   "execution_count": 7,
   "id": "d8ed0ed8-2abe-4c1e-b865-2fcddd926c8d",
   "metadata": {},
   "outputs": [
    {
     "name": "stdout",
     "output_type": "stream",
     "text": [
      "X_train.shape: (12228, 15)\n",
      "y_train.shape: (12228,)\n",
      "X_test.shape: (1969, 15)\n",
      "y_test.shape: (1969,)\n"
     ]
    }
   ],
   "source": [
    "print(\"X_train.shape:\", X_train.shape)\n",
    "print(\"y_train.shape:\", y_train.shape)\n",
    "print(\"X_test.shape:\", X_test.shape)\n",
    "print(\"y_test.shape:\", y_test.shape)"
   ]
  }
 ],
 "metadata": {
  "kernelspec": {
   "display_name": "Python 3 (ipykernel)",
   "language": "python",
   "name": "python3"
  },
  "language_info": {
   "codemirror_mode": {
    "name": "ipython",
    "version": 3
   },
   "file_extension": ".py",
   "mimetype": "text/x-python",
   "name": "python",
   "nbconvert_exporter": "python",
   "pygments_lexer": "ipython3",
   "version": "3.9.16"
  }
 },
 "nbformat": 4,
 "nbformat_minor": 5
}
