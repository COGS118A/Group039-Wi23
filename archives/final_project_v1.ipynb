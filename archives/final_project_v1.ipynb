{
 "cells": [
  {
   "cell_type": "code",
   "execution_count": 1,
   "id": "b33619e5-4be2-4c3b-8ccd-9b7b724430ef",
   "metadata": {},
   "outputs": [
    {
     "name": "stdout",
     "output_type": "stream",
     "text": [
      "Collecting lazypredict\n",
      "  Downloading lazypredict-0.2.12-py2.py3-none-any.whl (12 kB)\n",
      "Collecting xgboost\n",
      "  Downloading xgboost-1.7.4-py3-none-manylinux2014_x86_64.whl (193.6 MB)\n",
      "\u001b[2K     \u001b[38;2;114;156;31m━━━━━━━━━━━━━━━━━━━━━━━━━━━━━━━━━━━━━━━\u001b[0m \u001b[32m193.6/193.6 MB\u001b[0m \u001b[31m9.4 MB/s\u001b[0m eta \u001b[36m0:00:00\u001b[0mm eta \u001b[36m0:00:01\u001b[0m[36m0:00:01\u001b[0m\n",
      "\u001b[?25hRequirement already satisfied: scikit-learn in /home/fade0329/anaconda3/envs/mlbook/lib/python3.9/site-packages (from lazypredict) (1.0.2)\n",
      "Collecting lightgbm\n",
      "  Downloading lightgbm-3.3.5-py3-none-manylinux1_x86_64.whl (2.0 MB)\n",
      "\u001b[2K     \u001b[38;2;114;156;31m━━━━━━━━━━━━━━━━━━━━━━━━━━━━━━━━━━━━━━━━\u001b[0m \u001b[32m2.0/2.0 MB\u001b[0m \u001b[31m32.2 MB/s\u001b[0m eta \u001b[36m0:00:00\u001b[0m31m33.6 MB/s\u001b[0m eta \u001b[36m0:00:01\u001b[0m\n",
      "\u001b[?25hRequirement already satisfied: tqdm in /home/fade0329/anaconda3/envs/mlbook/lib/python3.9/site-packages (from lazypredict) (4.64.1)\n",
      "Requirement already satisfied: pandas in /home/fade0329/anaconda3/envs/mlbook/lib/python3.9/site-packages (from lazypredict) (1.3.2)\n",
      "Requirement already satisfied: click in /home/fade0329/anaconda3/envs/mlbook/lib/python3.9/site-packages (from lazypredict) (8.1.3)\n",
      "Requirement already satisfied: joblib in /home/fade0329/anaconda3/envs/mlbook/lib/python3.9/site-packages (from lazypredict) (1.2.0)\n",
      "Requirement already satisfied: numpy in /home/fade0329/anaconda3/envs/mlbook/lib/python3.9/site-packages (from lightgbm->lazypredict) (1.21.2)\n",
      "Requirement already satisfied: scipy in /home/fade0329/anaconda3/envs/mlbook/lib/python3.9/site-packages (from lightgbm->lazypredict) (1.10.0)\n",
      "Requirement already satisfied: wheel in /home/fade0329/anaconda3/envs/mlbook/lib/python3.9/site-packages (from lightgbm->lazypredict) (0.38.4)\n",
      "Requirement already satisfied: threadpoolctl>=2.0.0 in /home/fade0329/anaconda3/envs/mlbook/lib/python3.9/site-packages (from scikit-learn->lazypredict) (3.1.0)\n",
      "Requirement already satisfied: python-dateutil>=2.7.3 in /home/fade0329/anaconda3/envs/mlbook/lib/python3.9/site-packages (from pandas->lazypredict) (2.8.2)\n",
      "Requirement already satisfied: pytz>=2017.3 in /home/fade0329/anaconda3/envs/mlbook/lib/python3.9/site-packages (from pandas->lazypredict) (2022.7.1)\n",
      "Requirement already satisfied: six>=1.5 in /home/fade0329/anaconda3/envs/mlbook/lib/python3.9/site-packages (from python-dateutil>=2.7.3->pandas->lazypredict) (1.16.0)\n",
      "Installing collected packages: xgboost, lightgbm, lazypredict\n",
      "Successfully installed lazypredict-0.2.12 lightgbm-3.3.5 xgboost-1.7.4\n"
     ]
    }
   ],
   "source": [
    "!python -m pip install --user lazypredict"
   ]
  },
  {
   "cell_type": "code",
   "execution_count": 2,
   "id": "f1ab761e-30b8-451b-9022-25dfddfb9610",
   "metadata": {},
   "outputs": [],
   "source": [
    "from lazypredict.Supervised import LazyClassifier\n",
    "from sklearn.model_selection import train_test_split"
   ]
  }
 ],
 "metadata": {
  "kernelspec": {
   "display_name": "Python 3 (ipykernel)",
   "language": "python",
   "name": "python3"
  },
  "language_info": {
   "codemirror_mode": {
    "name": "ipython",
    "version": 3
   },
   "file_extension": ".py",
   "mimetype": "text/x-python",
   "name": "python",
   "nbconvert_exporter": "python",
   "pygments_lexer": "ipython3",
   "version": "3.9.16"
  }
 },
 "nbformat": 4,
 "nbformat_minor": 5
}
